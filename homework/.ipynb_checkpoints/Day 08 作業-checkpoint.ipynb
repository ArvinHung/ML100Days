{
 "cells": [
  {
   "cell_type": "code",
   "execution_count": 1,
   "id": "a8bf3d15",
   "metadata": {},
   "outputs": [],
   "source": [
    "# Q1 [簡答題] 請問 Pandas 套件最主要的貢獻是什麼？\n",
    "\n",
    "# 提供類似「資料表」的表格資料型態\n"
   ]
  },
  {
   "cell_type": "code",
   "execution_count": 6,
   "id": "b1cf3c1e",
   "metadata": {},
   "outputs": [
    {
     "name": "stdout",
     "output_type": "stream",
     "text": [
      "  abb FullName  Ponit\n",
      "0   A    Alpha     50\n",
      "1   B     Beta     20\n",
      "2   C  Charlie     10\n",
      "(3, 3)\n",
      "9\n",
      "[['A' 'Alpha' 50]\n",
      " ['B' 'Beta' 20]\n",
      " ['C' 'Charlie' 10]]\n",
      "RangeIndex(start=0, stop=3, step=1)\n",
      "Index(['abb', 'FullName', 'Ponit'], dtype='object')\n",
      "abb         object\n",
      "FullName    object\n",
      "Ponit        int64\n",
      "dtype: object\n",
      "3\n"
     ]
    }
   ],
   "source": [
    "# Q2 根據提供的資料集，印出他們的屬性分別為何？\n",
    "# （屬性：shape、size、values、index、columns、dtypes、len）\n",
    "\n",
    "import pandas as pd\n",
    "\n",
    "a = pd.DataFrame({\n",
    "    \"abb\":[\"A\", \"B\", \"C\"], \n",
    "    \"FullName\":[\"Alpha\",\"Beta\",\"Charlie\"],\n",
    "    \"Ponit\":[50, 20, 10]\n",
    "    })\n",
    "\n",
    "\n",
    "print(a)\n",
    "print(a.shape)\n",
    "print(a.size)\n",
    "print(a.values)\n",
    "print(a.index)\n",
    "print(a.columns)\n",
    "print(a.dtypes)\n",
    "print(len(a))"
   ]
  },
  {
   "cell_type": "code",
   "execution_count": null,
   "id": "949d607d",
   "metadata": {},
   "outputs": [],
   "source": []
  }
 ],
 "metadata": {
  "kernelspec": {
   "display_name": "Python 3",
   "language": "python",
   "name": "python3"
  },
  "language_info": {
   "codemirror_mode": {
    "name": "ipython",
    "version": 3
   },
   "file_extension": ".py",
   "mimetype": "text/x-python",
   "name": "python",
   "nbconvert_exporter": "python",
   "pygments_lexer": "ipython3",
   "version": "3.8.8"
  }
 },
 "nbformat": 4,
 "nbformat_minor": 5
}
