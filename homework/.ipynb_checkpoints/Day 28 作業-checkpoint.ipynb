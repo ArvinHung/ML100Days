{
 "cells": [
  {
   "cell_type": "code",
   "execution_count": 4,
   "id": "ebdcd432",
   "metadata": {},
   "outputs": [
    {
     "name": "stdout",
     "output_type": "stream",
     "text": [
      "所求的機率是:  0.07958923738717888\n"
     ]
    }
   ],
   "source": [
    "# Q1 丟一個銅板，丟了100次，出現正面 50 次的機率有多大。\n",
    "\n",
    "# 是二項分布(Binominal Distribution) \n",
    "# 設 X 表 出現正面的次數 \n",
    "# 則 n = 100, p = 0.5 = 每次出現正面的機率 #假設是公正銅板\n",
    "\n",
    "from scipy.stats import binom\n",
    "\n",
    "print(\"所求的機率是: \", binom.pmf(50, 100, 0.5) ) "
   ]
  },
  {
   "cell_type": "code",
   "execution_count": null,
   "id": "a99c8ce8",
   "metadata": {},
   "outputs": [],
   "source": []
  }
 ],
 "metadata": {
  "kernelspec": {
   "display_name": "Python 3",
   "language": "python",
   "name": "python3"
  },
  "language_info": {
   "codemirror_mode": {
    "name": "ipython",
    "version": 3
   },
   "file_extension": ".py",
   "mimetype": "text/x-python",
   "name": "python",
   "nbconvert_exporter": "python",
   "pygments_lexer": "ipython3",
   "version": "3.8.8"
  }
 },
 "nbformat": 4,
 "nbformat_minor": 5
}
