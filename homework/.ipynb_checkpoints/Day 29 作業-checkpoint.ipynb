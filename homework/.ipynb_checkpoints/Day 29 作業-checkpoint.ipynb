{
 "cells": [
  {
   "cell_type": "code",
   "execution_count": null,
   "id": "803d3681",
   "metadata": {},
   "outputs": [],
   "source": [
    "# Q1：大樂透的頭獎，你必須從49個挑選出 6 個號碼，且這六個號碼與頭獎的六個號碼一致，\n",
    "#     頭獎的機率是屬於哪一種分配？\n",
    "\n",
    "# 超幾何分配，因為是一次抽6個，抽出不放回，還需要6個都抽到中獎號碼"
   ]
  },
  {
   "cell_type": "code",
   "execution_count": 3,
   "id": "183a0e4b",
   "metadata": {},
   "outputs": [
    {
     "name": "stdout",
     "output_type": "stream",
     "text": [
      "所求 = P(抽中全部的中獎號碼) = P(X=6) =  7.151123842018523e-08\n"
     ]
    }
   ],
   "source": [
    "# Q2：運用範例的 python 程式碼，計算大樂透的中頭獎機率？\n",
    "\n",
    "from scipy.stats import hypergeom\n",
    "\n",
    "# hypergeom.pmf( x0, N, K, n) = 抽出x0個成功的機率\n",
    "\n",
    "print(\"所求 = P(抽中全部的中獎號碼) = P(X=6) = \", hypergeom.pmf(6, 49, 6, 6) )\n",
    "# 總共有49個球(N=49)，其中6個是中獎號碼的球(K=6)。\n",
    "#  → 把49個球分成兩類: 43個是非中獎號碼(失敗類)，6個是中獎號碼(成功類)\n",
    "# 抽出6個且抽出不放回(n=6)，且6個全部都要是中獎的球(x0=6)。\n"
   ]
  },
  {
   "cell_type": "code",
   "execution_count": null,
   "id": "d8fd4ea2",
   "metadata": {},
   "outputs": [],
   "source": [
    "# Q3：你覺得電腦簽注的中獎機率，和人腦簽注相比，哪一個機率高？\n",
    "\n",
    "# 機率相同。因為都是隨機抽樣。"
   ]
  }
 ],
 "metadata": {
  "kernelspec": {
   "display_name": "Python 3",
   "language": "python",
   "name": "python3"
  },
  "language_info": {
   "codemirror_mode": {
    "name": "ipython",
    "version": 3
   },
   "file_extension": ".py",
   "mimetype": "text/x-python",
   "name": "python",
   "nbconvert_exporter": "python",
   "pygments_lexer": "ipython3",
   "version": "3.8.8"
  }
 },
 "nbformat": 4,
 "nbformat_minor": 5
}
