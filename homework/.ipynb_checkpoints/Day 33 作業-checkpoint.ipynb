{
 "cells": [
  {
   "cell_type": "code",
   "execution_count": null,
   "id": "effb8b0b",
   "metadata": {},
   "outputs": [],
   "source": [
    "# 我是政大經濟系 成大財金所的\n",
    "# 對假說檢定很熟悉\n",
    "# 為了節省時間 跳過今天的作業 "
   ]
  }
 ],
 "metadata": {
  "kernelspec": {
   "display_name": "Python 3",
   "language": "python",
   "name": "python3"
  },
  "language_info": {
   "codemirror_mode": {
    "name": "ipython",
    "version": 3
   },
   "file_extension": ".py",
   "mimetype": "text/x-python",
   "name": "python",
   "nbconvert_exporter": "python",
   "pygments_lexer": "ipython3",
   "version": "3.8.8"
  }
 },
 "nbformat": 4,
 "nbformat_minor": 5
}
