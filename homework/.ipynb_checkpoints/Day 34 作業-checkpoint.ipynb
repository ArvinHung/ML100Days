{
 "cells": [
  {
   "cell_type": "code",
   "execution_count": 1,
   "id": "c955ee09",
   "metadata": {},
   "outputs": [
    {
     "data": {
      "text/plain": [
       "(4.834937784152282, 1.3318728439003627e-06)"
      ]
     },
     "execution_count": 1,
     "metadata": {},
     "output_type": "execute_result"
    }
   ],
   "source": [
    "# 作業 1：用 A/B test 幫工廠做決定吧\n",
    "\n",
    "# 某工廠想知道兩條不同的生產線的產品不良率是否有所不同，\n",
    "# 由兩條生產線中各抽取 300 個樣本，第一組有 75 個不良品，\n",
    "# 第二組有 30 個不良品，我們可以宣稱生產線所生產出的產品不良率不相同？(以0.05 為顯著水準)？\n",
    "\n",
    "# 設 第一組為p1, 第二組為p2\n",
    "\n",
    "# H0: p1-p2 = 0\n",
    "# Ha: p1-p2 != 0  # 兩組不良率顯著不相同\n",
    "\n",
    "import statsmodels.stats.proportion \n",
    "\n",
    "A = [75, 30]\n",
    "B = [300, 300]\n",
    "\n",
    "statsmodels.stats.proportion.proportions_ztest(A, B, alternative='two-sided')\n"
   ]
  },
  {
   "cell_type": "code",
   "execution_count": null,
   "id": "a12d381c",
   "metadata": {},
   "outputs": [],
   "source": []
  }
 ],
 "metadata": {
  "kernelspec": {
   "display_name": "Python 3",
   "language": "python",
   "name": "python3"
  },
  "language_info": {
   "codemirror_mode": {
    "name": "ipython",
    "version": 3
   },
   "file_extension": ".py",
   "mimetype": "text/x-python",
   "name": "python",
   "nbconvert_exporter": "python",
   "pygments_lexer": "ipython3",
   "version": "3.8.8"
  }
 },
 "nbformat": 4,
 "nbformat_minor": 5
}
