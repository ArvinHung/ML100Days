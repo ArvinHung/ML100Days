{
 "cells": [
  {
   "cell_type": "code",
   "execution_count": 4,
   "id": "9dcdc388",
   "metadata": {
    "scrolled": true
   },
   "outputs": [
    {
     "data": {
      "text/plain": [
       "2019-01-01     0\n",
       "2019-01-02     1\n",
       "2019-01-03     2\n",
       "2019-01-04     3\n",
       "2019-01-05     4\n",
       "2019-01-06     5\n",
       "2019-01-07     6\n",
       "2019-01-08     7\n",
       "2019-01-09     8\n",
       "2019-01-10     9\n",
       "2019-01-11    10\n",
       "2019-01-12    11\n",
       "2019-01-13    12\n",
       "2019-01-14    13\n",
       "2019-01-15    14\n",
       "2019-01-16    15\n",
       "2019-01-17    16\n",
       "2019-01-18    17\n",
       "2019-01-19    18\n",
       "2019-01-20    19\n",
       "Freq: D, dtype: int64"
      ]
     },
     "execution_count": 4,
     "metadata": {},
     "output_type": "execute_result"
    }
   ],
   "source": [
    "#題目：運下列時間序列資料做運算\n",
    "\n",
    "import pandas as pd\n",
    "import numpy as np\n",
    "\n",
    "index = pd.date_range(\"1/1/2019\", periods=20, freq='D')\n",
    "series = pd.Series(range(20), index=index)\n",
    "\n",
    "series\n"
   ]
  },
  {
   "cell_type": "code",
   "execution_count": 7,
   "id": "438aa498",
   "metadata": {},
   "outputs": [
    {
     "name": "stdout",
     "output_type": "stream",
     "text": [
      "2018-12-31/2019-01-06     0\n",
      "2018-12-31/2019-01-06     1\n",
      "2018-12-31/2019-01-06     2\n",
      "2018-12-31/2019-01-06     3\n",
      "2018-12-31/2019-01-06     4\n",
      "2018-12-31/2019-01-06     5\n",
      "2019-01-07/2019-01-13     6\n",
      "2019-01-07/2019-01-13     7\n",
      "2019-01-07/2019-01-13     8\n",
      "2019-01-07/2019-01-13     9\n",
      "2019-01-07/2019-01-13    10\n",
      "2019-01-07/2019-01-13    11\n",
      "2019-01-07/2019-01-13    12\n",
      "2019-01-14/2019-01-20    13\n",
      "2019-01-14/2019-01-20    14\n",
      "2019-01-14/2019-01-20    15\n",
      "2019-01-14/2019-01-20    16\n",
      "2019-01-14/2019-01-20    17\n",
      "2019-01-14/2019-01-20    18\n",
      "2019-01-14/2019-01-20    19\n",
      "Freq: W-SUN, dtype: int64\n"
     ]
    }
   ],
   "source": [
    "# Q1: 將所有資料轉為周資料\n",
    "\n",
    "series_2 = series.to_period(\"W\")\n",
    "# 【2019-01-02】 所在的周是 【2018-12-31/2019-01-06】\n",
    "# 所以 【2019-01-02】轉成周資料之後會變成 【2018-12-31/2019-01-06】\n",
    "print(series_2)\n"
   ]
  },
  {
   "cell_type": "code",
   "execution_count": 9,
   "id": "9aa5d506",
   "metadata": {},
   "outputs": [
    {
     "data": {
      "text/plain": [
       "2019-01-06     2.5\n",
       "2019-01-13     9.0\n",
       "2019-01-20    16.0\n",
       "Freq: W-SUN, dtype: float64"
      ]
     },
     "execution_count": 9,
     "metadata": {},
     "output_type": "execute_result"
    }
   ],
   "source": [
    "# Q2: 將周資料的值取平均\n",
    "# 找出每周的平均值\n",
    "\n",
    "# print(series_2.mean()) >> 不能這樣用\n",
    "\n",
    "series.resample(\"W\").mean()\n",
    "# 對 【2018-12-31/2019-01-06】 的資料取平均 得 2.5\n",
    "# 對 【2019-01-07/2019-01-13】 的資料取平均 得 9.0\n",
    "# 對 【2019-01-14/2019-01-20】 的資料取平均 得 16.0\n"
   ]
  },
  {
   "cell_type": "code",
   "execution_count": null,
   "id": "bd4769c5",
   "metadata": {},
   "outputs": [],
   "source": []
  }
 ],
 "metadata": {
  "kernelspec": {
   "display_name": "Python 3",
   "language": "python",
   "name": "python3"
  },
  "language_info": {
   "codemirror_mode": {
    "name": "ipython",
    "version": 3
   },
   "file_extension": ".py",
   "mimetype": "text/x-python",
   "name": "python",
   "nbconvert_exporter": "python",
   "pygments_lexer": "ipython3",
   "version": "3.8.8"
  }
 },
 "nbformat": 4,
 "nbformat_minor": 5
}
