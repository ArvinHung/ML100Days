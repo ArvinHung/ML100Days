{
 "cells": [
  {
   "cell_type": "code",
   "execution_count": 1,
   "id": "ec7c2016",
   "metadata": {},
   "outputs": [],
   "source": [
    "import pandas as pd\n",
    "\n",
    "df_train = pd.read_csv(\"C:\\\\Users\\\\user\\\\Desktop\\\\Python learning\\\\02 Python 資料科學程式馬拉松\\\\Day 36_探索性資料分析 (EDA) 數據理解與重覆和遺失值處理\\\\鐵達尼號 train.csv\")\n",
    "df_test = pd.read_csv(\"C:\\\\Users\\\\user\\\\Desktop\\\\Python learning\\\\02 Python 資料科學程式馬拉松\\\\Day 36_探索性資料分析 (EDA) 數據理解與重覆和遺失值處理\\\\鐵達尼號 test.csv\")"
   ]
  },
  {
   "cell_type": "code",
   "execution_count": 2,
   "id": "a289ee8a",
   "metadata": {},
   "outputs": [
    {
     "name": "stdout",
     "output_type": "stream",
     "text": [
      "Index(['PassengerId', 'Survived', 'Pclass', 'Name', 'Sex', 'Age', 'SibSp',\n",
      "       'Parch', 'Ticket', 'Fare', 'Cabin', 'Embarked'],\n",
      "      dtype='object')\n",
      "Index(['PassengerId', 'Pclass', 'Name', 'Sex', 'Age', 'SibSp', 'Parch',\n",
      "       'Ticket', 'Fare', 'Cabin', 'Embarked'],\n",
      "      dtype='object')\n"
     ]
    }
   ],
   "source": [
    "# Q1：觀察測試(test) 資料集和訓練(Train) 資料集的變數的差異性？\n",
    "\n",
    "print(df_train.columns)\n",
    "print(df_test.columns)\n",
    "\n",
    "# df.columns 可以看到該 DataFrame全部的欄位\n",
    "\n",
    "# 測試資料集沒有 Survived 很正常，因為就是要讓你去預測有沒有存活"
   ]
  },
  {
   "cell_type": "code",
   "execution_count": 6,
   "id": "5fd6f4bd",
   "metadata": {},
   "outputs": [
    {
     "name": "stdout",
     "output_type": "stream",
     "text": [
      "PassengerId    False\n",
      "Pclass         False\n",
      "Name           False\n",
      "Sex            False\n",
      "Age             True\n",
      "SibSp          False\n",
      "Parch          False\n",
      "Ticket         False\n",
      "Fare            True\n",
      "Cabin           True\n",
      "Embarked       False\n",
      "dtype: bool\n"
     ]
    }
   ],
   "source": [
    "# Q2：測試資料集是否有遺失值？\n",
    "\n",
    "print(df_test.isnull().any())\n",
    "    # .isnull() 把所有資料都轉成「是否為空值」 True = 是空值\n",
    "    \n",
    "    # .any() 判斷一個list或tuple是否有「某個特定東西」\n",
    "        # .any() 表示 判斷一個list或tuple是否有「空值」\n",
    "            # 某一列回傳 True：表示該列有空值\n",
    "            # 某一列回傳 False：表示該列沒有空值\n"
   ]
  },
  {
   "cell_type": "code",
   "execution_count": 7,
   "id": "b721ea44",
   "metadata": {},
   "outputs": [
    {
     "name": "stdout",
     "output_type": "stream",
     "text": [
      "3\n"
     ]
    }
   ],
   "source": [
    "print(df_test.isnull().any().sum())\n",
    "    # True = 1, False = 0, \n",
    "    # 把一堆 True False加起來 = 把一堆1,0加起來\n",
    "    # 就可以知道有幾個欄位 是有缺失值的"
   ]
  },
  {
   "cell_type": "code",
   "execution_count": 14,
   "id": "efe34b16",
   "metadata": {},
   "outputs": [
    {
     "name": "stdout",
     "output_type": "stream",
     "text": [
      "<class 'pandas.core.frame.DataFrame'>\n",
      "Int64Index: 1309 entries, 0 to 417\n",
      "Data columns (total 12 columns):\n",
      " #   Column       Non-Null Count  Dtype  \n",
      "---  ------       --------------  -----  \n",
      " 0   PassengerId  1309 non-null   int64  \n",
      " 1   Survived     891 non-null    float64\n",
      " 2   Pclass       1309 non-null   int64  \n",
      " 3   Name         1309 non-null   object \n",
      " 4   Sex          1309 non-null   object \n",
      " 5   Age          1046 non-null   float64\n",
      " 6   SibSp        1309 non-null   int64  \n",
      " 7   Parch        1309 non-null   int64  \n",
      " 8   Ticket       1309 non-null   object \n",
      " 9   Fare         1308 non-null   float64\n",
      " 10  Cabin        295 non-null    object \n",
      " 11  Embarked     1307 non-null   object \n",
      "dtypes: float64(3), int64(4), object(5)\n",
      "memory usage: 132.9+ KB\n",
      "None \n",
      "\n",
      "合併後資料的資料遺失個數：\n",
      " PassengerId       0\n",
      "Survived        418\n",
      "Pclass            0\n",
      "Name              0\n",
      "Sex               0\n",
      "Age             263\n",
      "SibSp             0\n",
      "Parch             0\n",
      "Ticket            0\n",
      "Fare              1\n",
      "Cabin          1014\n",
      "Embarked          2\n",
      "dtype: int64\n"
     ]
    }
   ],
   "source": [
    "# Q3：從合併資料選取一個變數，嘗試去做各種不同遺失值的處理，並透過圖形或數值來做輔助判斷，\n",
    "#補值前與後的差異，你覺得以這個變數而言，試著說明每一個方法的差異。 \n",
    "\n",
    "# 合併資料\n",
    "data = df_train.append(df_test)\n",
    "\n",
    "print(data.info(),\"\\n\")\n",
    "\n",
    "print(\"合併後資料的資料遺失個數：\\n\", data.isnull().sum())\n"
   ]
  },
  {
   "cell_type": "code",
   "execution_count": null,
   "id": "2c47cc77",
   "metadata": {},
   "outputs": [],
   "source": [
    "# 一個「欄位」就是一個「特徵」或是「變數」"
   ]
  },
  {
   "cell_type": "code",
   "execution_count": 15,
   "id": "bee96683",
   "metadata": {},
   "outputs": [],
   "source": [
    "# 方法一 遺失的屬於另一類 \n",
    "    # 直接填入 \"NoCabin\""
   ]
  },
  {
   "cell_type": "code",
   "execution_count": null,
   "id": "80ecfb80",
   "metadata": {},
   "outputs": [],
   "source": [
    "# 方法二 看看 Cabin 和其他變數有沒有關係 可以進行補值\n",
    "    # 發現 缺值的存活率 和 T艙等的存活率很接近 \n",
    "    # 所以 把艙等缺失的地方 都填為T艙等"
   ]
  },
  {
   "cell_type": "code",
   "execution_count": null,
   "id": "c2696602",
   "metadata": {},
   "outputs": [],
   "source": [
    "# 方法三 遺失比例太高，可以先不放入模型 \n"
   ]
  }
 ],
 "metadata": {
  "kernelspec": {
   "display_name": "Python 3",
   "language": "python",
   "name": "python3"
  },
  "language_info": {
   "codemirror_mode": {
    "name": "ipython",
    "version": 3
   },
   "file_extension": ".py",
   "mimetype": "text/x-python",
   "name": "python",
   "nbconvert_exporter": "python",
   "pygments_lexer": "ipython3",
   "version": "3.8.8"
  }
 },
 "nbformat": 4,
 "nbformat_minor": 5
}
