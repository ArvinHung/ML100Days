{
 "cells": [
  {
   "cell_type": "code",
   "execution_count": 1,
   "id": "22e1375e",
   "metadata": {},
   "outputs": [],
   "source": [
    "import pandas as pd \n",
    "import numpy as np\n",
    "import seaborn as sns\n",
    "import matplotlib.pyplot as plt\n",
    "import matplotlib as mpl"
   ]
  },
  {
   "cell_type": "code",
   "execution_count": 2,
   "id": "06fe0400",
   "metadata": {},
   "outputs": [],
   "source": [
    "# 載入資料 \n",
    "\n",
    "df_white = pd.read_csv(\"winequality-white.csv\" , sep= ';')\n",
    "df_red = pd.read_excel(\"winequality-red.xlsx\")\n",
    "\n",
    "# 合併\n",
    "df_wine = df_red.append(df_white)\n",
    "\n",
    "# 刪除重複列\n",
    "df_wine.drop_duplicates(inplace = True)"
   ]
  },
  {
   "cell_type": "code",
   "execution_count": null,
   "id": "c4b2c5fc",
   "metadata": {},
   "outputs": [
    {
     "name": "stderr",
     "output_type": "stream",
     "text": [
      "C:\\Users\\user\\anaconda3\\lib\\site-packages\\seaborn\\categorical.py:1296: UserWarning: 56.3% of the points cannot be placed; you may want to decrease the size of the markers or use stripplot.\n",
      "  warnings.warn(msg, UserWarning)\n"
     ]
    }
   ],
   "source": [
    "# (1) 繪製 SWARM \n",
    "sns.set(style=\"white\")   #設定底圖顏色\n",
    "p = sns.catplot(x=\"quality\", y=\"sulphates\", kind=\"swarm\", data=df_wine, palette=\"GnBu_d\")\n",
    "print(p)\n",
    "\n",
    "# 畫swarm要跑一點時間"
   ]
  },
  {
   "cell_type": "code",
   "execution_count": null,
   "id": "f70144ca",
   "metadata": {},
   "outputs": [],
   "source": [
    "# (2) 繪製 FaceGrid\n",
    "\n",
    "sns.set(style=\"white\")\n",
    "\n",
    "g = sns.PairGrid(df_wine, diag_sharey=False)\n",
    "g.map_upper(sns.scatterplot)\n",
    "g.map_lower(sns.kdeplot, colors=\"C0\")\n",
    "g.map_diag(sns.kdeplot, lw=2)\n",
    "\n",
    "print(g)\n"
   ]
  },
  {
   "cell_type": "code",
   "execution_count": null,
   "id": "45c96668",
   "metadata": {},
   "outputs": [],
   "source": []
  }
 ],
 "metadata": {
  "kernelspec": {
   "display_name": "Python 3",
   "language": "python",
   "name": "python3"
  },
  "language_info": {
   "codemirror_mode": {
    "name": "ipython",
    "version": 3
   },
   "file_extension": ".py",
   "mimetype": "text/x-python",
   "name": "python",
   "nbconvert_exporter": "python",
   "pygments_lexer": "ipython3",
   "version": "3.8.8"
  }
 },
 "nbformat": 4,
 "nbformat_minor": 5
}
