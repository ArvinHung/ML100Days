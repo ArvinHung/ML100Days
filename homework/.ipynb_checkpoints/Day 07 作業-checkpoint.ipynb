{
 "cells": [
  {
   "cell_type": "code",
   "execution_count": 7,
   "id": "cecfb6a3",
   "metadata": {},
   "outputs": [
    {
     "name": "stdout",
     "output_type": "stream",
     "text": [
      "37.1 ns ± 13.9 ns per loop (mean ± std. dev. of 7 runs, 10 loops each)\n"
     ]
    }
   ],
   "source": [
    "# Q1 請比較對一個 100 x 100 x 100 的陣列，使用不同方法對每一個元素 +1 的時間比較。\n",
    "\n",
    "# 迴圈\n",
    "import numpy as np \n",
    "a = np.random.randint(0, 100, 1000000).reshape(100, 100, 100)\n",
    "\n",
    "%timeit -n 10 a = 2\n",
    "for i in a:\n",
    "    for j in i: \n",
    "        for k in j:\n",
    "            i+=1\n"
   ]
  },
  {
   "cell_type": "code",
   "execution_count": 11,
   "id": "a91fc643",
   "metadata": {},
   "outputs": [
    {
     "name": "stdout",
     "output_type": "stream",
     "text": [
      "31.4 ns ± 12.5 ns per loop (mean ± std. dev. of 7 runs, 10 loops each)\n"
     ]
    }
   ],
   "source": [
    "# a.flat\n",
    "import numpy as np \n",
    "a = np.random.randint(0, 100, 1000000).reshape(100, 100, 100)\n",
    "\n",
    "%timeit -n 10 a = 2\n",
    "for x in a.flat:\n",
    "    i+=1\n",
    "\n",
    "\n"
   ]
  },
  {
   "cell_type": "code",
   "execution_count": 13,
   "id": "fb56afbe",
   "metadata": {},
   "outputs": [
    {
     "name": "stdout",
     "output_type": "stream",
     "text": [
      "31.4 ns ± 12.5 ns per loop (mean ± std. dev. of 7 runs, 10 loops each)\n"
     ]
    }
   ],
   "source": [
    "# np.nditer(a)\n",
    "import numpy as np \n",
    "a = np.random.randint(0, 100, 1000000).reshape(100, 100, 100)\n",
    "\n",
    "%timeit -n 10 a = 2\n",
    "for x in np.nditer(a, order=\"C\"):\n",
    "    i+=1\n"
   ]
  },
  {
   "cell_type": "code",
   "execution_count": null,
   "id": "6b0dc687",
   "metadata": {},
   "outputs": [],
   "source": [
    "# Q2 如何從一個陣列中，找出出現頻率最高的數值與位置？\n",
    "\n",
    "a = np.random.randit(0, 10, 50)\n"
   ]
  },
  {
   "cell_type": "code",
   "execution_count": 16,
   "id": "34b1bee7",
   "metadata": {},
   "outputs": [
    {
     "name": "stdout",
     "output_type": "stream",
     "text": [
      "[4, 8, 2, 7, 1, 9]\n",
      "[[9, 9, 0, 9], [9, 9, 1, 8], [2, 8, 0, 4]]\n",
      "[[[5, 4], [8, 3], [8, 5]], [[5, 5], [5, 1], [2, 0]]]\n"
     ]
    }
   ],
   "source": [
    "# Q3 如何利用 list(...) 實現 a.tolist() 的效果？試著用程式實作。\n",
    "\n",
    "import numpy as np\n",
    "\n",
    "a = np.random.randint(10, size = 6)\n",
    "b = np.random.randint(10, size = (3,4))\n",
    "c = np.random.randint(10, size = (2,3,2))\n",
    "\n",
    "def tolist(iterable):\n",
    "    if type(iterable) != np.ndarray:\n",
    "        return iterable\n",
    "    return [tolist(obj) for obj in iterable]\n",
    "\n",
    "print(tolist(a))\n",
    "print(tolist(b))\n",
    "print(tolist(c))\n"
   ]
  },
  {
   "cell_type": "code",
   "execution_count": null,
   "id": "08c46324",
   "metadata": {},
   "outputs": [],
   "source": []
  }
 ],
 "metadata": {
  "kernelspec": {
   "display_name": "Python 3",
   "language": "python",
   "name": "python3"
  },
  "language_info": {
   "codemirror_mode": {
    "name": "ipython",
    "version": 3
   },
   "file_extension": ".py",
   "mimetype": "text/x-python",
   "name": "python",
   "nbconvert_exporter": "python",
   "pygments_lexer": "ipython3",
   "version": "3.8.8"
  }
 },
 "nbformat": 4,
 "nbformat_minor": 5
}
