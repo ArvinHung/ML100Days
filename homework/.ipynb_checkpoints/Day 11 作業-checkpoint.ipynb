{
 "cells": [
  {
   "cell_type": "code",
   "execution_count": 25,
   "id": "5ec3485c",
   "metadata": {},
   "outputs": [
    {
     "name": "stdout",
     "output_type": "stream",
     "text": [
      "  animal  age  visits priority\n",
      "a    cat  2.5       1      yes\n",
      "b    cat  3.0       3      yes\n",
      "c  snake  0.5       2       no\n",
      "d    dog  NaN       3      yes\n",
      "e    dog  5.0       2       no\n",
      "f    cat  2.0       3       no\n",
      "g  snake  4.5       1       no\n",
      "h    cat  NaN       1      yes\n",
      "i    dog  7.0       2       no\n",
      "j    dog  3.0       1       no \n",
      "\n",
      "  animal  age  visits priority\n",
      "c  snake  0.5       2       no\n",
      "f    cat  2.0       3       no\n",
      "a    cat  2.5       1      yes\n",
      "j    dog  3.0       1       no\n",
      "b    cat  3.0       3      yes\n",
      "g  snake  4.5       1       no\n",
      "e    dog  5.0       2       no\n",
      "i    dog  7.0       2       no\n",
      "h    cat  NaN       1      yes\n",
      "d    dog  NaN       3      yes \n",
      "\n",
      "  animal  age  visits  priority\n",
      "a    cat  2.5       1      True\n",
      "b    cat  3.0       3      True\n",
      "c  snake  0.5       2     False\n",
      "d    dog  NaN       3      True\n",
      "e    dog  5.0       2     False\n",
      "f    cat  2.0       3     False\n",
      "g  snake  4.5       1     False\n",
      "h    cat  NaN       1      True\n",
      "i    dog  7.0       2     False\n",
      "j    dog  3.0       1     False\n"
     ]
    }
   ],
   "source": [
    "import numpy as np\n",
    "import pandas as pd\n",
    "\n",
    "data = {\n",
    "    'animal': ['cat', 'cat', 'snake', 'dog', 'dog', 'cat', 'snake', 'cat', 'dog', 'dog'],\n",
    "    'age': [2.5, 3, 0.5, np.nan, 5, 2, 4.5, np.nan, 7, 3],\n",
    "    'visits': [1, 3, 2, 3, 2, 3, 1, 1, 2, 1],\n",
    "    'priority': ['yes', 'yes', 'no', 'yes', 'no', 'no', 'no', 'yes', 'no', 'no']\n",
    "    }\n",
    "\n",
    "labels = ['a', 'b', 'c', 'd', 'e', 'f', 'g', 'h', 'i', 'j']\n",
    "df = pd.DataFrame(data, index=labels)\n",
    "print(df,\"\\n\")\n",
    "\n",
    "# 計算每個不同種類 animal 的 age 的平均數\n",
    "# @@\n",
    "\n",
    "# 將資料依照 Age 欄位由小到大排序，再依照 visits 欄位由大到小排序\n",
    "print(df.sort_values(by=[\"age\",\"visits\"]),\"\\n\")\n",
    "\n",
    "# 將 priority 欄位中的 yes 和 no 字串，換成是布林值 的 True 和 False\n",
    "df[\"priority\"] = df[\"priority\"].str.contains(\"yes\")   \n",
    "#用.str.contains檢查有沒有包含\"yes\"，有的話 就會顯示為\"True\"\n",
    "print(df)\n",
    "#把原本的 df[\"priority\"]覆寫掉之後，再印出來\n"
   ]
  },
  {
   "cell_type": "code",
   "execution_count": 38,
   "id": "201eab8c",
   "metadata": {},
   "outputs": [
    {
     "name": "stdout",
     "output_type": "stream",
     "text": [
      "          0         1         2\n",
      "0  0.697205  0.764647  0.184317\n",
      "1  0.448910  0.485631  0.702808\n",
      "2  0.074472  0.260198  0.893232\n",
      "3  0.856318  0.788130  0.018278\n",
      "4  0.551393  0.093666  0.808997 \n",
      "\n",
      "0    0.525660\n",
      "1    0.478454\n",
      "2    0.521526\n",
      "dtype: float64 \n",
      "\n",
      "0.5085467517978577 \n",
      "\n"
     ]
    }
   ],
   "source": [
    "import numpy as np\n",
    "import pandas as pd\n",
    "\n",
    "\n",
    "df = pd.DataFrame(np.random.random(size=(5, 3)))\n",
    "print(df,\"\\n\")\n",
    "\n",
    "# 該欄位的平均數\n",
    "df_1 = df.mean(axis=0)\n",
    "print(df_1,\"\\n\")\n",
    "\n",
    "# 該筆資料平均數\n",
    "df_2 = df_1.mean(axis=0)\n",
    "print(df_2,\"\\n\")\n",
    "\n",
    "# 哪一欄位的資料總合最小\n",
    "# QQ"
   ]
  },
  {
   "cell_type": "code",
   "execution_count": null,
   "id": "bd7059cd",
   "metadata": {},
   "outputs": [],
   "source": []
  }
 ],
 "metadata": {
  "kernelspec": {
   "display_name": "Python 3",
   "language": "python",
   "name": "python3"
  },
  "language_info": {
   "codemirror_mode": {
    "name": "ipython",
    "version": 3
   },
   "file_extension": ".py",
   "mimetype": "text/x-python",
   "name": "python",
   "nbconvert_exporter": "python",
   "pygments_lexer": "ipython3",
   "version": "3.8.8"
  }
 },
 "nbformat": 4,
 "nbformat_minor": 5
}
