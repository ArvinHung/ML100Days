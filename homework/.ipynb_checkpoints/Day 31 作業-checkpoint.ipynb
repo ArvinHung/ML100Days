{
 "cells": [
  {
   "cell_type": "code",
   "execution_count": null,
   "id": "1c909ebe",
   "metadata": {},
   "outputs": [],
   "source": [
    "#Q1：所以根據這個情況條件下。你會預測照片中的長髮是男性或女性？ (直覺回答)\n",
    "\n",
    "# 男生，因為給定對方是長髮的條件下，是男生的機率比較高"
   ]
  },
  {
   "cell_type": "code",
   "execution_count": 1,
   "id": "68dd7521",
   "metadata": {},
   "outputs": [
    {
     "name": "stdout",
     "output_type": "stream",
     "text": [
      "0.35714285714285715\n"
     ]
    }
   ],
   "source": [
    "#Q2：以下圖資料，計算當你看到長髮時，是女生的機率？\n",
    "\n",
    "# 定義: A = 女生, B = 長髮 \n",
    "# P(A|B) = p_a_given_b   # 給定留長髮的條件下, 是女生的機率\n",
    "# P(A|B') = p_a_given_not_b  \n",
    "# P(A) = p_a   # 是女生的機率\n",
    "# P(B) = p_b   # 留長髮的機率\n",
    "\n",
    "# 給參數:\n",
    "p_a = (5+5)/100\n",
    "p_b_given_a = 5/10\n",
    "p_b_given_not_a = 9/90\n",
    "\n",
    "def bayes_thm(p_a, p_b_given_a, p_b_given_not_a):\n",
    "    p_not_a = 1 - p_a\n",
    "    p_b = p_b_given_a * p_a + p_b_given_not_a * p_not_a\n",
    "    p_a_given_b = ( p_b_given_a * p_a ) / p_b\n",
    "    return p_a_given_b\n",
    "\n",
    "result = bayes_thm(p_a, p_b_given_a, p_b_given_not_a)\n",
    "print(result)\n"
   ]
  },
  {
   "cell_type": "code",
   "execution_count": null,
   "id": "25607c2e",
   "metadata": {},
   "outputs": [],
   "source": [
    "#Q3：你的決策因為男生女生比例不同 (先驗分配不同)，決策有沒有改變？\n",
    "\n",
    "# 要特別注意貝氏定理的使用"
   ]
  }
 ],
 "metadata": {
  "kernelspec": {
   "display_name": "Python 3",
   "language": "python",
   "name": "python3"
  },
  "language_info": {
   "codemirror_mode": {
    "name": "ipython",
    "version": 3
   },
   "file_extension": ".py",
   "mimetype": "text/x-python",
   "name": "python",
   "nbconvert_exporter": "python",
   "pygments_lexer": "ipython3",
   "version": "3.8.8"
  }
 },
 "nbformat": 4,
 "nbformat_minor": 5
}
