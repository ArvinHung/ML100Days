{
 "cells": [
  {
   "cell_type": "code",
   "execution_count": 11,
   "id": "9a3946c0",
   "metadata": {},
   "outputs": [
    {
     "name": "stdout",
     "output_type": "stream",
     "text": [
      "表格1\n",
      "   Apples  Bananas\n",
      "0      30       21 \n",
      "\n",
      "表格2\n",
      "            Apples  Bananas\n",
      "2017 Sales      35       21\n",
      "2018 Sales      41       34\n"
     ]
    }
   ],
   "source": [
    "# Q1請建立類似提供結果的 DataFrame：\n",
    "\n",
    "import pandas as pd\n",
    "\n",
    "a = pd.DataFrame({\"Apples\":[30],\"Bananas\":[21]})\n",
    "print(\"表格1\")\n",
    "print(a,\"\\n\")\n",
    "\n",
    "b = pd.DataFrame({\n",
    "    \"Apples\":[35, 41],\n",
    "    \"Bananas\":[21, 34]\n",
    "    }, index = [\"2017 Sales\",\"2018 Sales\"])\n",
    "print(\"表格2\")\n",
    "print(b)\n"
   ]
  },
  {
   "cell_type": "code",
   "execution_count": 13,
   "id": "c6b7c9a5",
   "metadata": {},
   "outputs": [
    {
     "name": "stdout",
     "output_type": "stream",
     "text": [
      "     city  visitor weekday\n",
      "0  Austin      139     Sun\n",
      "1  Dallas      237     Sun\n",
      "2  Austin      326     Mon\n",
      "3  Dallas      456     Mon\n"
     ]
    }
   ],
   "source": [
    "# Q2請問如果現在有一個 DataFrame 如下，請問資料在 Python 中可能長怎樣？\n",
    "\n",
    "import pandas as pd\n",
    "\n",
    "a = pd.DataFrame({\n",
    "    \"city\":[\"Austin\",\"Dallas\",\"Austin\",\"Dallas\"],\n",
    "    \"visitor\":[139, 237, 326, 456],\n",
    "    \"weekday\":[\"Sun\",\"Sun\",\"Mon\",\"Mon\"]})\n",
    "print(a)\n"
   ]
  },
  {
   "cell_type": "code",
   "execution_count": 35,
   "id": "5814d791",
   "metadata": {},
   "outputs": [
    {
     "name": "stdout",
     "output_type": "stream",
     "text": [
      "for Mon :\n",
      "0    False\n",
      "1    False\n",
      "2     True\n",
      "3     True\n",
      "Name: weekday, dtype: bool\n",
      "2    326\n",
      "3    456\n",
      "Name: visitor, dtype: int64\n",
      "391.0\n",
      "\n",
      "\n",
      "for Sun :\n",
      "0     True\n",
      "1     True\n",
      "2    False\n",
      "3    False\n",
      "Name: weekday, dtype: bool\n",
      "0    139\n",
      "1    237\n",
      "Name: visitor, dtype: int64\n",
      "188.0\n",
      "\n",
      "\n"
     ]
    }
   ],
   "source": [
    "# Q3假設你想知道每個 weekday 的平均 visitor 數量，可以怎麼做？\n",
    "\n",
    "import pandas as pd\n",
    "\n",
    "a = pd.DataFrame({\n",
    "    \"city\":[\"Austin\",\"Dallas\",\"Austin\",\"Dallas\"],\n",
    "    \"visitor\":[139, 237, 326, 456],\n",
    "    \"weekday\":[\"Sun\",\"Sun\",\"Mon\",\"Mon\"]})\n",
    "\n",
    "for day in set(a[\"weekday\"]):\n",
    "    print(\"for\",day,\":\")                 #表頭\n",
    "    condition = ( a[\"weekday\"]== day )   #建立篩選條件\n",
    "    print(condition)                     #看看篩選條件是否符合預期\n",
    "    filtered = a[\"visitor\"][condition]   #將visitor欄, 以篩選條件篩選出所要資料\n",
    "    print(filtered)                      #看看篩出來的資料不是所要的\n",
    "    print(filtered.mean())               #將篩出來的資料做平均, 並印出\n",
    "    print(\"\\n\")\n"
   ]
  },
  {
   "cell_type": "code",
   "execution_count": null,
   "id": "b47674b9",
   "metadata": {},
   "outputs": [],
   "source": []
  }
 ],
 "metadata": {
  "kernelspec": {
   "display_name": "Python 3",
   "language": "python",
   "name": "python3"
  },
  "language_info": {
   "codemirror_mode": {
    "name": "ipython",
    "version": 3
   },
   "file_extension": ".py",
   "mimetype": "text/x-python",
   "name": "python",
   "nbconvert_exporter": "python",
   "pygments_lexer": "ipython3",
   "version": "3.8.8"
  }
 },
 "nbformat": 4,
 "nbformat_minor": 5
}
