{
 "cells": [
  {
   "cell_type": "code",
   "execution_count": 7,
   "id": "1784c527",
   "metadata": {},
   "outputs": [
    {
     "name": "stdout",
     "output_type": "stream",
     "text": [
      "[[ 50. -95. 199.]\n",
      " [138.   7.  28.]]\n",
      "[[21. 73. 40.]\n",
      " [58. 67. 37.]]\n"
     ]
    }
   ],
   "source": [
    "import numpy as np\n",
    "\n",
    "#for Q1[簡答題] 請比較 np.zeros 和 np.empty 產生出來的陣列有何差異？為什麼要設計兩種方法？\n",
    "    # np.zeros() 做出來的是 每個元素都預設為 0 的 Ndarray\n",
    "    # np.empty() 做出來的是 每個元素都預設為 極趨近於0 的 Ndarray\n",
    "    # 會使用 np.empty() 建立Ndarray 的可能原因是, 我們想建立一個空的 array\n",
    "\n",
    "    \n",
    "#for Q2在不用「整數亂數方法」的限制下，如何將包含小數的轉換整數？請將給定的 a 陣列當中的元素變成去掉小數變成整數。\n",
    "\n",
    "from numpy.random import default_rng\n",
    "rng = default_rng()\n",
    "\n",
    "array_1 = rng.standard_normal((2,3))\n",
    "array_1 = array_1 * 100\n",
    "array_1 = array_1.round()   # 使用 .round() 來去掉小數點\n",
    "print(array_1)\n",
    "\n",
    "#for Q3承上題，怎樣可以限制整數的範圍介於 m - n 之間？請將給定的 a 陣列當中的元素的範圍調整成 m - n 之間。\n",
    "\n",
    "array_2  = rng.random((2,3))\n",
    "m = 0\n",
    "n = 100\n",
    "array_2 = array_2 * ( n - m )\n",
    "array_3 = array_2\n",
    "print( ( array_2 - array_3 % 1 ) + m )\n",
    "\n",
    "\n"
   ]
  },
  {
   "cell_type": "code",
   "execution_count": null,
   "id": "98d7bd82",
   "metadata": {},
   "outputs": [],
   "source": []
  }
 ],
 "metadata": {
  "kernelspec": {
   "display_name": "Python 3",
   "language": "python",
   "name": "python3"
  },
  "language_info": {
   "codemirror_mode": {
    "name": "ipython",
    "version": 3
   },
   "file_extension": ".py",
   "mimetype": "text/x-python",
   "name": "python",
   "nbconvert_exporter": "python",
   "pygments_lexer": "ipython3",
   "version": "3.8.8"
  }
 },
 "nbformat": 4,
 "nbformat_minor": 5
}
