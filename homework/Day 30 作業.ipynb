{
 "cells": [
  {
   "cell_type": "code",
   "execution_count": 9,
   "id": "593aa5eb",
   "metadata": {},
   "outputs": [],
   "source": [
    "from scipy.stats import norm"
   ]
  },
  {
   "cell_type": "code",
   "execution_count": 10,
   "id": "a9a5c22f",
   "metadata": {},
   "outputs": [
    {
     "name": "stdout",
     "output_type": "stream",
     "text": [
      "0.8413447460685429\n"
     ]
    }
   ],
   "source": [
    "# Q1：計算標準常態分配，小於 1 的機率有多大？\n",
    "\n",
    "print( norm.cdf(1,0,1) )"
   ]
  },
  {
   "cell_type": "code",
   "execution_count": 13,
   "id": "3ff916d9",
   "metadata": {},
   "outputs": [
    {
     "name": "stdout",
     "output_type": "stream",
     "text": [
      "0.31731050786291415\n"
     ]
    }
   ],
   "source": [
    "# Q2：計算標準常態分配，大於1，小於 -1 的機率有多大？\n",
    "\n",
    "left = norm.cdf(-1,0,1)\n",
    "right = 1 - norm.cdf(1,0,1)\n",
    "\n",
    "print(left+right)\n"
   ]
  },
  {
   "cell_type": "code",
   "execution_count": 14,
   "id": "6a797a61",
   "metadata": {},
   "outputs": [
    {
     "name": "stdout",
     "output_type": "stream",
     "text": [
      "0.8413447460685429\n"
     ]
    }
   ],
   "source": [
    "# Q3：X~N(2,4),x 服從常態分配，平均數為2,變異數為 4，計算 X小於 6 的機率有多大?\n",
    "\n",
    "p = norm.cdf(6,2,4)   # E(X)= 2, Var(X)= 4, 求 P(X<6)\n",
    "print(p)"
   ]
  },
  {
   "cell_type": "code",
   "execution_count": null,
   "id": "d17c1a39",
   "metadata": {},
   "outputs": [],
   "source": []
  }
 ],
 "metadata": {
  "kernelspec": {
   "display_name": "Python 3",
   "language": "python",
   "name": "python3"
  },
  "language_info": {
   "codemirror_mode": {
    "name": "ipython",
    "version": 3
   },
   "file_extension": ".py",
   "mimetype": "text/x-python",
   "name": "python",
   "nbconvert_exporter": "python",
   "pygments_lexer": "ipython3",
   "version": "3.8.8"
  }
 },
 "nbformat": 4,
 "nbformat_minor": 5
}
