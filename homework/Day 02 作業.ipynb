{
 "cells": [
  {
   "cell_type": "code",
   "execution_count": 7,
   "id": "e63d0ca1",
   "metadata": {},
   "outputs": [
    {
     "name": "stdout",
     "output_type": "stream",
     "text": [
      "<class 'numpy.ndarray'>\n",
      "int32\n",
      "True\n",
      "True\n",
      "True\n"
     ]
    },
    {
     "name": "stderr",
     "output_type": "stream",
     "text": [
      "<ipython-input-7-3dd3e7b40e40>:19: DeprecationWarning: `np.int` is a deprecated alias for the builtin `int`. To silence this warning, use `int` by itself. Doing this will not modify any behavior and is safe. When replacing `np.int`, you may wish to use e.g. `np.int64` or `np.int32` to specify the precision. If you wish to review your current use, check the release note link for additional information.\n",
      "Deprecated in NumPy 1.20; for more details and guidance: https://numpy.org/devdocs/release/1.20.0-notes.html#deprecations\n",
      "  print(is_dtype(a, np.int))\n"
     ]
    }
   ],
   "source": [
    "import numpy as np\n",
    "a = np.random.randint(10, size = 6)\n",
    "\n",
    "\n",
    "#for Q1: [簡答題] 請問 type(...) 跟 a.dtype 這兩個語法有什麼不同？\n",
    "print(type(a))   # return「a」是何種變數或物件類別\n",
    "print(a.dtype)   # return「a這個array 裡面的元素」是何種資料型別\n",
    "\n",
    "\n",
    "#for Q2: 請撰寫一個判斷 a 的元素是否等於指定資料型態的函式\n",
    "\n",
    "def is_dtype(a, t):\n",
    "    return a.dtype is np.dtype(t)\n",
    "    \n",
    "    # 測試一\n",
    "print(is_dtype(a, \"int\")) \n",
    "\n",
    "    # 測試二\n",
    "print(is_dtype(a, np.int)) \n",
    "\n",
    "    # 測試三\n",
    "print(is_dtype(a, np.dtype(\"int\"))) \n",
    "\n",
    "\n",
    "#for Q3: [簡答題] 承上題，請判斷下列三種寫法為何不正確？\n",
    "    # type() 是return 變數或物件的型態, 所以檢查到的是變數或物件的型態\n",
    "    # is 比 == 更嚴格\n",
    "\n"
   ]
  },
  {
   "cell_type": "code",
   "execution_count": null,
   "id": "56685851",
   "metadata": {},
   "outputs": [],
   "source": []
  }
 ],
 "metadata": {
  "kernelspec": {
   "display_name": "Python 3",
   "language": "python",
   "name": "python3"
  },
  "language_info": {
   "codemirror_mode": {
    "name": "ipython",
    "version": 3
   },
   "file_extension": ".py",
   "mimetype": "text/x-python",
   "name": "python",
   "nbconvert_exporter": "python",
   "pygments_lexer": "ipython3",
   "version": "3.8.8"
  }
 },
 "nbformat": 4,
 "nbformat_minor": 5
}
