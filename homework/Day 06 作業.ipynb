{
 "cells": [
  {
   "cell_type": "code",
   "execution_count": 3,
   "id": "c2ebda1e",
   "metadata": {},
   "outputs": [],
   "source": [
    "#Q1 [簡答題] 請問下列這三種方法有什麼不同？\n",
    "\n",
    "# print(a.sum())     #專屬於 Numpy array 可以用的\n",
    "# print(np.sum(a))   #專屬於 Numpy array 可以用的\n",
    "# print(sum(a))      #Python中的其他容器也可以用\n",
    " "
   ]
  },
  {
   "cell_type": "code",
   "execution_count": 7,
   "id": "7ca283e9",
   "metadata": {},
   "outputs": [
    {
     "name": "stdout",
     "output_type": "stream",
     "text": [
      "[[0.43458129 0.67647462 0.1706014  0.70924043 0.19873094]\n",
      " [0.4669342  0.2500812  0.18771834 0.56143561 1.        ]\n",
      " [0.67699676 0.35376865 0.32991826 0.37694678 0.38221938]\n",
      " [0.62737778 0.41090796 0.         0.61092639 0.11370349]\n",
      " [0.14236387 0.93622071 0.78052875 0.10489778 0.63902756]]\n"
     ]
    }
   ],
   "source": [
    "#Q2 請對一個 5x5 的隨機矩陣作正規化的操作。\n",
    "\n",
    "import numpy as np\n",
    "\n",
    "a_1 = np.random.random((5,5))\n",
    "\n",
    "a_2 = (a_1 - a_1.min()) / (a_1.max() - a_1.min())\n",
    "\n",
    "print(a_2)\n"
   ]
  },
  {
   "cell_type": "code",
   "execution_count": 13,
   "id": "4482f4ac",
   "metadata": {},
   "outputs": [
    {
     "name": "stdout",
     "output_type": "stream",
     "text": [
      "[0.01266897 0.34692365 0.84349251 0.55437678 0.05192933 0.73674808\n",
      " 0.38582645 0.86667478 0.35766119 0.20900618]\n",
      "7\n",
      "[ 0.01266897  0.34692365  0.84349251  0.55437678  0.05192933  0.73674808\n",
      "  0.38582645 -1.          0.35766119  0.20900618]\n"
     ]
    }
   ],
   "source": [
    "#Q3 請建立一個長度等於 10 的正整數向量，並且將其中的最大值改成 -1\n",
    "\n",
    "a = np.random.random(10)\n",
    "print(a)\n",
    "\n",
    "i = a.argmax()\n",
    "print(i)\n",
    "a[i] = -1\n",
    "print(a)\n"
   ]
  },
  {
   "cell_type": "code",
   "execution_count": null,
   "id": "79abecc1",
   "metadata": {},
   "outputs": [],
   "source": []
  }
 ],
 "metadata": {
  "kernelspec": {
   "display_name": "Python 3",
   "language": "python",
   "name": "python3"
  },
  "language_info": {
   "codemirror_mode": {
    "name": "ipython",
    "version": 3
   },
   "file_extension": ".py",
   "mimetype": "text/x-python",
   "name": "python",
   "nbconvert_exporter": "python",
   "pygments_lexer": "ipython3",
   "version": "3.8.8"
  }
 },
 "nbformat": 4,
 "nbformat_minor": 5
}
