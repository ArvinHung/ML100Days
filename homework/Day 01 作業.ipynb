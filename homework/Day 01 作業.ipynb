{
 "cells": [
  {
   "cell_type": "code",
   "execution_count": null,
   "id": "2eb6c326",
   "metadata": {},
   "outputs": [],
   "source": [
    "# Day 01 作業\n",
    "\n",
    "#for Q1:\n",
    "\n",
    "# list(): 只會把第一層的元素轉換成 List，多層的話只有第一層會轉換\n",
    "# .tolist(): 可以達成多層的型態轉換\n",
    "\n",
    "#for Q2:\n",
    "\n",
    "import numpy as np\n",
    "\n",
    "a = np.random.randint(10, size=6)\n",
    "print(\"是幾維陣列\",a.ndim)\n",
    "print(\"陣列的形狀\",a.shape)\n",
    "print(\"有幾個元素\",a.size)\n",
    "print(\"元素的資料型態\",a.dtype)\n",
    "print(\"每個元素的大小\",a.itemsize)\n",
    "print(len(a))\n",
    "print(type(a))\n",
    "\n",
    "b = np.random.randint(10, size=(3,4))\n",
    "print(\"是幾維陣列\",b.ndim)\n",
    "print(\"陣列的形狀\",b.shape)\n",
    "print(\"有幾個元素\",b.size)\n",
    "print(\"元素的資料型態\",b.dtype)\n",
    "print(\"每個元素的大小\",b.itemsize)\n",
    "print(len(b))\n",
    "print(type(b))\n",
    "\n",
    "c = np.random.randint(10, size=(2,3,2))\n",
    "print(\"是幾維陣列\",c.ndim)\n",
    "print(\"陣列的形狀\",c.shape)\n",
    "print(\"有幾個元素\",c.size)\n",
    "print(\"元素的資料型態\",c.dtype)\n",
    "print(\"每個元素的大小\",c.itemsize)\n",
    "print(len(c))\n",
    "print(type(c))\n",
    "\n",
    "#for Q3:\n",
    "\n",
    "def tolist(iterable):\n",
    "if type(iterable) != np.ndarray:\n",
    "return iterable\n",
    "newlist = []\n",
    "for obj in iterable:\n",
    "newlist.append(tolist(obj))\n",
    "return list(newlist)\n",
    "\n",
    "print(tolist(a))\n",
    "print(tolist(b))\n",
    "print(tolist(c))"
   ]
  }
 ],
 "metadata": {
  "kernelspec": {
   "display_name": "Python 3",
   "language": "python",
   "name": "python3"
  },
  "language_info": {
   "codemirror_mode": {
    "name": "ipython",
    "version": 3
   },
   "file_extension": ".py",
   "mimetype": "text/x-python",
   "name": "python",
   "nbconvert_exporter": "python",
   "pygments_lexer": "ipython3",
   "version": "3.8.8"
  }
 },
 "nbformat": 4,
 "nbformat_minor": 5
}
