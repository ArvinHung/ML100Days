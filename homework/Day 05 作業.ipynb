{
 "cells": [
  {
   "cell_type": "code",
   "execution_count": 8,
   "id": "3a24d3f7",
   "metadata": {},
   "outputs": [
    {
     "name": "stdout",
     "output_type": "stream",
     "text": [
      "[ 0  1  2  3  4  5  6  7  8  9 10]\n",
      "[ 0  1  2 -3 -4 -5 -6  7  8  9 10]\n",
      "6\n"
     ]
    }
   ],
   "source": [
    "import numpy as np \n",
    "\n",
    "# Q1 產生一個 1-11 的一維陣列，並且把 3-6 由正數變成負數。\n",
    "z = np.arange(11)\n",
    "print(z)\n",
    "\n",
    "z[ (3<=z) & (z<7) ] *= -1 \n",
    "print(z)\n",
    "\n",
    "# Q2 試著從一個隨機陣列中，找出比 0.5 大的數有幾個？\n",
    "a = np.random.rand(3,6)\n",
    "print(a[ (a>0.5) ].size)\n"
   ]
  },
  {
   "cell_type": "code",
   "execution_count": null,
   "id": "267d2402",
   "metadata": {},
   "outputs": [],
   "source": []
  }
 ],
 "metadata": {
  "kernelspec": {
   "display_name": "Python 3",
   "language": "python",
   "name": "python3"
  },
  "language_info": {
   "codemirror_mode": {
    "name": "ipython",
    "version": 3
   },
   "file_extension": ".py",
   "mimetype": "text/x-python",
   "name": "python",
   "nbconvert_exporter": "python",
   "pygments_lexer": "ipython3",
   "version": "3.8.8"
  }
 },
 "nbformat": 4,
 "nbformat_minor": 5
}
