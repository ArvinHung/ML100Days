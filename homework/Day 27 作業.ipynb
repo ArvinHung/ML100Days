{
 "cells": [
  {
   "cell_type": "code",
   "execution_count": 1,
   "id": "baaed34d",
   "metadata": {},
   "outputs": [],
   "source": [
    "import numpy as np \n",
    "import pandas as pd \n",
    "import scipy.stats as st\n",
    "import math\n",
    "import statistics "
   ]
  },
  {
   "cell_type": "code",
   "execution_count": 25,
   "id": "068eae2f",
   "metadata": {},
   "outputs": [],
   "source": [
    "boys = pd.DataFrame({\n",
    "    \"hight\":[164, 176, 169, 169, 165, 175, 159, 151, 144, 160, \n",
    "     183, 165, 156, 170, 164, 173, 165, 163, 177, 171]})\n",
    "girls = pd.DataFrame({\n",
    "    \"hight\":[169, 183, 170, 168, 182, 170, 173, 185, 151, 156, \n",
    "     162, 169, 162, 181, 159, 154, 167, 175, 170, 160]})"
   ]
  },
  {
   "cell_type": "code",
   "execution_count": 27,
   "id": "60b07855",
   "metadata": {},
   "outputs": [
    {
     "name": "stdout",
     "output_type": "stream",
     "text": [
      "男生身高平均 165.95\n",
      "男生身高中位數 165.0\n",
      "男生身高樣本標準差 9.213691185575838\n",
      "男生身高偏態係數 -0.510430168884251\n",
      "男生身高峰態係數 0.6254561209213287\n",
      "\n",
      "\n",
      "女生身高平均 168.3\n",
      "女生身高中位數 169.0\n",
      "女生身高樣本標準差 9.766214587465353\n",
      "女生身高偏態係數 0.06481966015062339\n",
      "女生身高峰態係數 -0.6971370021227545\n"
     ]
    }
   ],
   "source": [
    "# Q1：試著用今天所教的內容，如何描述這兩組資料的樣態？\n",
    "\n",
    "print(\"男生身高平均\", boys[\"hight\"].mean())\n",
    "print(\"男生身高中位數\", boys[\"hight\"].median())\n",
    "print(\"男生身高樣本標準差\", boys[\"hight\"].std(ddof = 1)) #.std() 預設是 (ddof =1) \n",
    "print(\"男生身高偏態係數\", boys[\"hight\"].skew()) #左偏 \n",
    "print(\"男生身高峰態係數\", boys[\"hight\"].kurtosis()) #高狹峰\n",
    "\n",
    "print(\"\\n\")\n",
    "\n",
    "print(\"女生身高平均\", girls[\"hight\"].mean())\n",
    "print(\"女生身高中位數\", girls[\"hight\"].median())\n",
    "print(\"女生身高樣本標準差\", girls[\"hight\"].std(ddof = 1)) #.std() 預設是 (ddof =1) \n",
    "print(\"女生身高偏態係數\", girls[\"hight\"].skew()) #右偏 \n",
    "print(\"女生身高峰態係數\", girls[\"hight\"].kurtosis()) #低闊峰\n",
    "\n",
    "# 女生的樣本標準差比男生的大"
   ]
  },
  {
   "cell_type": "code",
   "execution_count": 14,
   "id": "2a057b4b",
   "metadata": {},
   "outputs": [
    {
     "name": "stdout",
     "output_type": "stream",
     "text": [
      "男生平均 =  165.95\n",
      "女生平均 =  168.3\n"
     ]
    }
   ],
   "source": [
    "# Q2：請問男生和女生在平均身高上誰比較高？\n",
    "\n",
    "b_mean = boys[\"hight\"].mean()\n",
    "g_mean = girls[\"hight\"].mean()\n",
    "\n",
    "print(\"男生平均 = \",b_mean)\n",
    "print(\"女生平均 = \",g_mean)"
   ]
  },
  {
   "cell_type": "code",
   "execution_count": null,
   "id": "36a405a4",
   "metadata": {},
   "outputs": [],
   "source": [
    "# Q3：請問第二題的答案和日常生活中觀察的一致嗎？如果不一致，你覺得原因可能為何？\n",
    "\n",
    "# 與直覺不符。可能的原因是「抽樣誤差」。"
   ]
  }
 ],
 "metadata": {
  "kernelspec": {
   "display_name": "Python 3",
   "language": "python",
   "name": "python3"
  },
  "language_info": {
   "codemirror_mode": {
    "name": "ipython",
    "version": 3
   },
   "file_extension": ".py",
   "mimetype": "text/x-python",
   "name": "python",
   "nbconvert_exporter": "python",
   "pygments_lexer": "ipython3",
   "version": "3.8.8"
  }
 },
 "nbformat": 4,
 "nbformat_minor": 5
}
